{
 "cells": [
  {
   "cell_type": "markdown",
   "id": "3acca164",
   "metadata": {},
   "source": [
    "# Importing Libraries"
   ]
  },
  {
   "cell_type": "code",
   "execution_count": 2,
   "id": "c05018f0",
   "metadata": {},
   "outputs": [],
   "source": [
    "import pandas as pd\n",
    "from sklearn.model_selection import train_test_split\n",
    "from sklearn.svm import SVC\n",
    "from sklearn.metrics import classification_report\n",
    "from sklearn.metrics import accuracy_score"
   ]
  },
  {
   "cell_type": "markdown",
   "id": "99575214",
   "metadata": {},
   "source": [
    "# Importing Dataset"
   ]
  },
  {
   "cell_type": "code",
   "execution_count": 3,
   "id": "fa6e8370",
   "metadata": {},
   "outputs": [],
   "source": [
    "dataset=pd.read_csv('social_media.csv')"
   ]
  },
  {
   "cell_type": "code",
   "execution_count": 4,
   "id": "d748a016",
   "metadata": {},
   "outputs": [
    {
     "data": {
      "text/html": [
       "<div>\n",
       "<style scoped>\n",
       "    .dataframe tbody tr th:only-of-type {\n",
       "        vertical-align: middle;\n",
       "    }\n",
       "\n",
       "    .dataframe tbody tr th {\n",
       "        vertical-align: top;\n",
       "    }\n",
       "\n",
       "    .dataframe thead th {\n",
       "        text-align: right;\n",
       "    }\n",
       "</style>\n",
       "<table border=\"1\" class=\"dataframe\">\n",
       "  <thead>\n",
       "    <tr style=\"text-align: right;\">\n",
       "      <th></th>\n",
       "      <th>S.no</th>\n",
       "      <th>Tiktoker name</th>\n",
       "      <th>Tiktok name</th>\n",
       "      <th>Subscribers</th>\n",
       "      <th>Views avg.</th>\n",
       "      <th>Likes avg.</th>\n",
       "      <th>Comments avg.</th>\n",
       "      <th>Shares avg.</th>\n",
       "    </tr>\n",
       "  </thead>\n",
       "  <tbody>\n",
       "    <tr>\n",
       "      <th>0</th>\n",
       "      <td>1</td>\n",
       "      <td>jypestraykids</td>\n",
       "      <td>Stray Kids</td>\n",
       "      <td>13.8M</td>\n",
       "      <td>6.4M</td>\n",
       "      <td>2.3M</td>\n",
       "      <td>50.2K</td>\n",
       "      <td>34.2K</td>\n",
       "    </tr>\n",
       "    <tr>\n",
       "      <th>1</th>\n",
       "      <td>2</td>\n",
       "      <td>khaby.lame</td>\n",
       "      <td>Khabane lame</td>\n",
       "      <td>149.2M</td>\n",
       "      <td>17.3M</td>\n",
       "      <td>2.3M</td>\n",
       "      <td>15.2K</td>\n",
       "      <td>8.7K</td>\n",
       "    </tr>\n",
       "    <tr>\n",
       "      <th>2</th>\n",
       "      <td>3</td>\n",
       "      <td>scarlettsspam2</td>\n",
       "      <td>scarlett</td>\n",
       "      <td>2.1M</td>\n",
       "      <td>17.9M</td>\n",
       "      <td>845.8K</td>\n",
       "      <td>53.9K</td>\n",
       "      <td>6.3K</td>\n",
       "    </tr>\n",
       "    <tr>\n",
       "      <th>3</th>\n",
       "      <td>4</td>\n",
       "      <td>addisonre</td>\n",
       "      <td>Addison Rae</td>\n",
       "      <td>88.7M</td>\n",
       "      <td>22M</td>\n",
       "      <td>906.6K</td>\n",
       "      <td>7.6K</td>\n",
       "      <td>26.2K</td>\n",
       "    </tr>\n",
       "    <tr>\n",
       "      <th>4</th>\n",
       "      <td>5</td>\n",
       "      <td>belindatok</td>\n",
       "      <td>Belinda</td>\n",
       "      <td>4.8M</td>\n",
       "      <td>14.2M</td>\n",
       "      <td>1.5M</td>\n",
       "      <td>14.5K</td>\n",
       "      <td>15.3K</td>\n",
       "    </tr>\n",
       "  </tbody>\n",
       "</table>\n",
       "</div>"
      ],
      "text/plain": [
       "   S.no   Tiktoker name   Tiktok name Subscribers Views avg. Likes avg.  \\\n",
       "0     1   jypestraykids    Stray Kids       13.8M       6.4M       2.3M   \n",
       "1     2      khaby.lame  Khabane lame      149.2M      17.3M       2.3M   \n",
       "2     3  scarlettsspam2      scarlett        2.1M      17.9M     845.8K   \n",
       "3     4       addisonre   Addison Rae       88.7M        22M     906.6K   \n",
       "4     5      belindatok       Belinda        4.8M      14.2M       1.5M   \n",
       "\n",
       "  Comments avg. Shares avg.  \n",
       "0         50.2K       34.2K  \n",
       "1         15.2K        8.7K  \n",
       "2         53.9K        6.3K  \n",
       "3          7.6K       26.2K  \n",
       "4         14.5K       15.3K  "
      ]
     },
     "execution_count": 4,
     "metadata": {},
     "output_type": "execute_result"
    }
   ],
   "source": [
    "dataset.head()"
   ]
  },
  {
   "cell_type": "code",
   "execution_count": 5,
   "id": "26f534d1",
   "metadata": {},
   "outputs": [
    {
     "name": "stdout",
     "output_type": "stream",
     "text": [
      "<class 'pandas.core.frame.DataFrame'>\n",
      "RangeIndex: 1000 entries, 0 to 999\n",
      "Data columns (total 8 columns):\n",
      " #   Column         Non-Null Count  Dtype \n",
      "---  ------         --------------  ----- \n",
      " 0   S.no           1000 non-null   int64 \n",
      " 1   Tiktoker name  1000 non-null   object\n",
      " 2   Tiktok name    999 non-null    object\n",
      " 3   Subscribers    1000 non-null   object\n",
      " 4   Views avg.     1000 non-null   object\n",
      " 5   Likes avg.     1000 non-null   object\n",
      " 6   Comments avg.  1000 non-null   object\n",
      " 7   Shares avg.    1000 non-null   object\n",
      "dtypes: int64(1), object(7)\n",
      "memory usage: 62.6+ KB\n"
     ]
    }
   ],
   "source": [
    "dataset.info()"
   ]
  },
  {
   "cell_type": "markdown",
   "id": "b6516b76",
   "metadata": {},
   "source": [
    "# Data Preprocessing and Convertion to Numerical Data"
   ]
  },
  {
   "cell_type": "code",
   "execution_count": 6,
   "id": "2d963655",
   "metadata": {},
   "outputs": [],
   "source": [
    "dataset['Subscribers'] = dataset['Subscribers'].str.replace('K', 'e3').str.replace('M', 'e6').astype(float)\n",
    "\n",
    "dataset.dropna(inplace=True) \n"
   ]
  },
  {
   "cell_type": "code",
   "execution_count": 7,
   "id": "4c097042",
   "metadata": {},
   "outputs": [],
   "source": [
    "dataset['Views avg.'] = dataset['Views avg.'].str.replace('K', 'e3').str.replace('M', 'e6').astype(float)\n",
    "\n",
    "dataset.dropna(inplace=True) \n"
   ]
  },
  {
   "cell_type": "code",
   "execution_count": 8,
   "id": "34578003",
   "metadata": {},
   "outputs": [],
   "source": [
    "dataset['Likes avg.'] = dataset['Likes avg.'].str.replace('K', 'e3').str.replace('M', 'e6').astype(float)\n",
    "\n",
    "dataset.dropna(inplace=True) \n"
   ]
  },
  {
   "cell_type": "code",
   "execution_count": 9,
   "id": "41d5678c",
   "metadata": {},
   "outputs": [],
   "source": [
    "dataset['Comments avg.'] = dataset['Comments avg.'].str.replace('K', 'e3').str.replace('M', 'e6').astype(float)\n",
    "\n",
    "dataset.dropna(inplace=True) \n"
   ]
  },
  {
   "cell_type": "code",
   "execution_count": 10,
   "id": "dcc42776",
   "metadata": {},
   "outputs": [],
   "source": [
    "dataset['Shares avg.'] = dataset['Shares avg.'].str.replace('K', 'e3').str.replace('M', 'e6').astype(float)\n",
    "\n",
    "dataset.dropna(inplace=True) \n"
   ]
  },
  {
   "cell_type": "markdown",
   "id": "c26f9877",
   "metadata": {},
   "source": [
    "# Addition Of Popularity as a Feature for Prediction"
   ]
  },
  {
   "cell_type": "code",
   "execution_count": 11,
   "id": "2cbb822f",
   "metadata": {},
   "outputs": [],
   "source": [
    "dataset['Score'] = dataset['Subscribers'] + dataset['Views avg.'] + dataset['Likes avg.'] + dataset['Comments avg.'] + dataset['Shares avg.']\n",
    "Average_score = dataset['Score'].mean()\n",
    "dataset['Status'] = dataset['Score'].apply(lambda x: 'High' if x >= Average_score else 'Low')"
   ]
  },
  {
   "cell_type": "code",
   "execution_count": 12,
   "id": "c7df05bc",
   "metadata": {},
   "outputs": [
    {
     "data": {
      "text/html": [
       "<div>\n",
       "<style scoped>\n",
       "    .dataframe tbody tr th:only-of-type {\n",
       "        vertical-align: middle;\n",
       "    }\n",
       "\n",
       "    .dataframe tbody tr th {\n",
       "        vertical-align: top;\n",
       "    }\n",
       "\n",
       "    .dataframe thead th {\n",
       "        text-align: right;\n",
       "    }\n",
       "</style>\n",
       "<table border=\"1\" class=\"dataframe\">\n",
       "  <thead>\n",
       "    <tr style=\"text-align: right;\">\n",
       "      <th></th>\n",
       "      <th>S.no</th>\n",
       "      <th>Tiktoker name</th>\n",
       "      <th>Tiktok name</th>\n",
       "      <th>Subscribers</th>\n",
       "      <th>Views avg.</th>\n",
       "      <th>Likes avg.</th>\n",
       "      <th>Comments avg.</th>\n",
       "      <th>Shares avg.</th>\n",
       "      <th>Score</th>\n",
       "      <th>Status</th>\n",
       "    </tr>\n",
       "  </thead>\n",
       "  <tbody>\n",
       "    <tr>\n",
       "      <th>0</th>\n",
       "      <td>1</td>\n",
       "      <td>jypestraykids</td>\n",
       "      <td>Stray Kids</td>\n",
       "      <td>13800000.0</td>\n",
       "      <td>6400000.0</td>\n",
       "      <td>2300000.0</td>\n",
       "      <td>50200.0</td>\n",
       "      <td>34200.0</td>\n",
       "      <td>22584400.0</td>\n",
       "      <td>High</td>\n",
       "    </tr>\n",
       "    <tr>\n",
       "      <th>1</th>\n",
       "      <td>2</td>\n",
       "      <td>khaby.lame</td>\n",
       "      <td>Khabane lame</td>\n",
       "      <td>149200000.0</td>\n",
       "      <td>17300000.0</td>\n",
       "      <td>2300000.0</td>\n",
       "      <td>15200.0</td>\n",
       "      <td>8700.0</td>\n",
       "      <td>168823900.0</td>\n",
       "      <td>High</td>\n",
       "    </tr>\n",
       "    <tr>\n",
       "      <th>2</th>\n",
       "      <td>3</td>\n",
       "      <td>scarlettsspam2</td>\n",
       "      <td>scarlett</td>\n",
       "      <td>2100000.0</td>\n",
       "      <td>17900000.0</td>\n",
       "      <td>845800.0</td>\n",
       "      <td>53900.0</td>\n",
       "      <td>6300.0</td>\n",
       "      <td>20906000.0</td>\n",
       "      <td>High</td>\n",
       "    </tr>\n",
       "    <tr>\n",
       "      <th>3</th>\n",
       "      <td>4</td>\n",
       "      <td>addisonre</td>\n",
       "      <td>Addison Rae</td>\n",
       "      <td>88700000.0</td>\n",
       "      <td>22000000.0</td>\n",
       "      <td>906600.0</td>\n",
       "      <td>7600.0</td>\n",
       "      <td>26200.0</td>\n",
       "      <td>111640400.0</td>\n",
       "      <td>High</td>\n",
       "    </tr>\n",
       "    <tr>\n",
       "      <th>4</th>\n",
       "      <td>5</td>\n",
       "      <td>belindatok</td>\n",
       "      <td>Belinda</td>\n",
       "      <td>4800000.0</td>\n",
       "      <td>14200000.0</td>\n",
       "      <td>1500000.0</td>\n",
       "      <td>14500.0</td>\n",
       "      <td>15300.0</td>\n",
       "      <td>20529800.0</td>\n",
       "      <td>High</td>\n",
       "    </tr>\n",
       "  </tbody>\n",
       "</table>\n",
       "</div>"
      ],
      "text/plain": [
       "   S.no   Tiktoker name   Tiktok name  Subscribers  Views avg.  Likes avg.  \\\n",
       "0     1   jypestraykids    Stray Kids   13800000.0   6400000.0   2300000.0   \n",
       "1     2      khaby.lame  Khabane lame  149200000.0  17300000.0   2300000.0   \n",
       "2     3  scarlettsspam2      scarlett    2100000.0  17900000.0    845800.0   \n",
       "3     4       addisonre   Addison Rae   88700000.0  22000000.0    906600.0   \n",
       "4     5      belindatok       Belinda    4800000.0  14200000.0   1500000.0   \n",
       "\n",
       "   Comments avg.  Shares avg.        Score Status  \n",
       "0        50200.0      34200.0   22584400.0   High  \n",
       "1        15200.0       8700.0  168823900.0   High  \n",
       "2        53900.0       6300.0   20906000.0   High  \n",
       "3         7600.0      26200.0  111640400.0   High  \n",
       "4        14500.0      15300.0   20529800.0   High  "
      ]
     },
     "execution_count": 12,
     "metadata": {},
     "output_type": "execute_result"
    }
   ],
   "source": [
    "dataset.head()"
   ]
  },
  {
   "cell_type": "code",
   "execution_count": 12,
   "id": "c996633b",
   "metadata": {},
   "outputs": [
    {
     "name": "stdout",
     "output_type": "stream",
     "text": [
      "<class 'pandas.core.frame.DataFrame'>\n",
      "Int64Index: 999 entries, 0 to 999\n",
      "Data columns (total 9 columns):\n",
      " #   Column         Non-Null Count  Dtype   \n",
      "---  ------         --------------  -----   \n",
      " 0   S.no           999 non-null    int64   \n",
      " 1   Tiktoker name  999 non-null    object  \n",
      " 2   Tiktok name    999 non-null    object  \n",
      " 3   Subscribers    999 non-null    float64 \n",
      " 4   Views avg.     999 non-null    float64 \n",
      " 5   Likes avg.     999 non-null    float64 \n",
      " 6   Comments avg.  999 non-null    float64 \n",
      " 7   Shares avg.    999 non-null    float64 \n",
      " 8   Popularity     999 non-null    category\n",
      "dtypes: category(1), float64(5), int64(1), object(2)\n",
      "memory usage: 71.3+ KB\n"
     ]
    }
   ],
   "source": [
    "dataset.info()"
   ]
  },
  {
   "cell_type": "markdown",
   "id": "bddf8c45",
   "metadata": {},
   "source": [
    "# Identifying Dependent and Independent Variables "
   ]
  },
  {
   "cell_type": "code",
   "execution_count": 13,
   "id": "416e3079",
   "metadata": {},
   "outputs": [],
   "source": [
    "X = dataset[['Subscribers', 'Views avg.', 'Likes avg.', 'Comments avg.', 'Shares avg.']]"
   ]
  },
  {
   "cell_type": "code",
   "execution_count": 14,
   "id": "cab3b2f9",
   "metadata": {},
   "outputs": [],
   "source": [
    "y = dataset['Popularity']"
   ]
  },
  {
   "cell_type": "markdown",
   "id": "600b9ff4",
   "metadata": {},
   "source": [
    "# Splitting the dataset as train and test for model creation"
   ]
  },
  {
   "cell_type": "code",
   "execution_count": 15,
   "id": "186f5696",
   "metadata": {},
   "outputs": [],
   "source": [
    "X_train, X_test, y_train, y_test = train_test_split(X, y, test_size=0.2, random_state=42)"
   ]
  },
  {
   "cell_type": "markdown",
   "id": "5745116b",
   "metadata": {},
   "source": [
    "# SVM Model Creation"
   ]
  },
  {
   "cell_type": "code",
   "execution_count": 16,
   "id": "3350f0fd",
   "metadata": {},
   "outputs": [
    {
     "data": {
      "text/html": [
       "<style>#sk-container-id-1 {color: black;background-color: white;}#sk-container-id-1 pre{padding: 0;}#sk-container-id-1 div.sk-toggleable {background-color: white;}#sk-container-id-1 label.sk-toggleable__label {cursor: pointer;display: block;width: 100%;margin-bottom: 0;padding: 0.3em;box-sizing: border-box;text-align: center;}#sk-container-id-1 label.sk-toggleable__label-arrow:before {content: \"▸\";float: left;margin-right: 0.25em;color: #696969;}#sk-container-id-1 label.sk-toggleable__label-arrow:hover:before {color: black;}#sk-container-id-1 div.sk-estimator:hover label.sk-toggleable__label-arrow:before {color: black;}#sk-container-id-1 div.sk-toggleable__content {max-height: 0;max-width: 0;overflow: hidden;text-align: left;background-color: #f0f8ff;}#sk-container-id-1 div.sk-toggleable__content pre {margin: 0.2em;color: black;border-radius: 0.25em;background-color: #f0f8ff;}#sk-container-id-1 input.sk-toggleable__control:checked~div.sk-toggleable__content {max-height: 200px;max-width: 100%;overflow: auto;}#sk-container-id-1 input.sk-toggleable__control:checked~label.sk-toggleable__label-arrow:before {content: \"▾\";}#sk-container-id-1 div.sk-estimator input.sk-toggleable__control:checked~label.sk-toggleable__label {background-color: #d4ebff;}#sk-container-id-1 div.sk-label input.sk-toggleable__control:checked~label.sk-toggleable__label {background-color: #d4ebff;}#sk-container-id-1 input.sk-hidden--visually {border: 0;clip: rect(1px 1px 1px 1px);clip: rect(1px, 1px, 1px, 1px);height: 1px;margin: -1px;overflow: hidden;padding: 0;position: absolute;width: 1px;}#sk-container-id-1 div.sk-estimator {font-family: monospace;background-color: #f0f8ff;border: 1px dotted black;border-radius: 0.25em;box-sizing: border-box;margin-bottom: 0.5em;}#sk-container-id-1 div.sk-estimator:hover {background-color: #d4ebff;}#sk-container-id-1 div.sk-parallel-item::after {content: \"\";width: 100%;border-bottom: 1px solid gray;flex-grow: 1;}#sk-container-id-1 div.sk-label:hover label.sk-toggleable__label {background-color: #d4ebff;}#sk-container-id-1 div.sk-serial::before {content: \"\";position: absolute;border-left: 1px solid gray;box-sizing: border-box;top: 0;bottom: 0;left: 50%;z-index: 0;}#sk-container-id-1 div.sk-serial {display: flex;flex-direction: column;align-items: center;background-color: white;padding-right: 0.2em;padding-left: 0.2em;position: relative;}#sk-container-id-1 div.sk-item {position: relative;z-index: 1;}#sk-container-id-1 div.sk-parallel {display: flex;align-items: stretch;justify-content: center;background-color: white;position: relative;}#sk-container-id-1 div.sk-item::before, #sk-container-id-1 div.sk-parallel-item::before {content: \"\";position: absolute;border-left: 1px solid gray;box-sizing: border-box;top: 0;bottom: 0;left: 50%;z-index: -1;}#sk-container-id-1 div.sk-parallel-item {display: flex;flex-direction: column;z-index: 1;position: relative;background-color: white;}#sk-container-id-1 div.sk-parallel-item:first-child::after {align-self: flex-end;width: 50%;}#sk-container-id-1 div.sk-parallel-item:last-child::after {align-self: flex-start;width: 50%;}#sk-container-id-1 div.sk-parallel-item:only-child::after {width: 0;}#sk-container-id-1 div.sk-dashed-wrapped {border: 1px dashed gray;margin: 0 0.4em 0.5em 0.4em;box-sizing: border-box;padding-bottom: 0.4em;background-color: white;}#sk-container-id-1 div.sk-label label {font-family: monospace;font-weight: bold;display: inline-block;line-height: 1.2em;}#sk-container-id-1 div.sk-label-container {text-align: center;}#sk-container-id-1 div.sk-container {/* jupyter's `normalize.less` sets `[hidden] { display: none; }` but bootstrap.min.css set `[hidden] { display: none !important; }` so we also need the `!important` here to be able to override the default hidden behavior on the sphinx rendered scikit-learn.org. See: https://github.com/scikit-learn/scikit-learn/issues/21755 */display: inline-block !important;position: relative;}#sk-container-id-1 div.sk-text-repr-fallback {display: none;}</style><div id=\"sk-container-id-1\" class=\"sk-top-container\"><div class=\"sk-text-repr-fallback\"><pre>SVC(kernel=&#x27;linear&#x27;)</pre><b>In a Jupyter environment, please rerun this cell to show the HTML representation or trust the notebook. <br />On GitHub, the HTML representation is unable to render, please try loading this page with nbviewer.org.</b></div><div class=\"sk-container\" hidden><div class=\"sk-item\"><div class=\"sk-estimator sk-toggleable\"><input class=\"sk-toggleable__control sk-hidden--visually\" id=\"sk-estimator-id-1\" type=\"checkbox\" checked><label for=\"sk-estimator-id-1\" class=\"sk-toggleable__label sk-toggleable__label-arrow\">SVC</label><div class=\"sk-toggleable__content\"><pre>SVC(kernel=&#x27;linear&#x27;)</pre></div></div></div></div></div>"
      ],
      "text/plain": [
       "SVC(kernel='linear')"
      ]
     },
     "execution_count": 16,
     "metadata": {},
     "output_type": "execute_result"
    }
   ],
   "source": [
    "clf = SVC(kernel='linear')\n",
    "clf.fit(X_train, y_train)"
   ]
  },
  {
   "cell_type": "markdown",
   "id": "3b1c79c4",
   "metadata": {},
   "source": [
    "# Prediction using model"
   ]
  },
  {
   "cell_type": "code",
   "execution_count": 17,
   "id": "ccd4fb6e",
   "metadata": {},
   "outputs": [],
   "source": [
    "y_pred = clf.predict(X_test)"
   ]
  },
  {
   "cell_type": "code",
   "execution_count": 18,
   "id": "5ec4ec16",
   "metadata": {},
   "outputs": [
    {
     "data": {
      "text/plain": [
       "array(['low', 'high', 'medium', 'medium', 'medium', 'medium', 'medium',\n",
       "       'medium', 'high', 'medium', 'medium', 'medium', 'medium', 'low',\n",
       "       'medium', 'medium', 'medium', 'medium', 'medium', 'medium',\n",
       "       'medium', 'medium', 'medium', 'medium', 'medium', 'high', 'high',\n",
       "       'low', 'medium', 'medium', 'high', 'medium', 'low', 'medium',\n",
       "       'low', 'low', 'medium', 'high', 'medium', 'high', 'medium', 'high',\n",
       "       'medium', 'low', 'medium', 'low', 'medium', 'medium', 'high',\n",
       "       'medium', 'medium', 'medium', 'high', 'high', 'high', 'medium',\n",
       "       'high', 'medium', 'high', 'medium', 'medium', 'medium', 'high',\n",
       "       'low', 'medium', 'high', 'medium', 'medium', 'low', 'low',\n",
       "       'medium', 'high', 'medium', 'medium', 'high', 'medium', 'high',\n",
       "       'medium', 'medium', 'medium', 'high', 'low', 'medium', 'high',\n",
       "       'medium', 'medium', 'low', 'medium', 'high', 'high', 'high',\n",
       "       'medium', 'medium', 'medium', 'high', 'medium', 'high', 'medium',\n",
       "       'low', 'low', 'medium', 'medium', 'high', 'medium', 'medium',\n",
       "       'medium', 'medium', 'low', 'low', 'medium', 'medium', 'medium',\n",
       "       'high', 'medium', 'high', 'low', 'low', 'medium', 'medium', 'high',\n",
       "       'high', 'medium', 'low', 'low', 'low', 'medium', 'high', 'medium',\n",
       "       'low', 'medium', 'medium', 'low', 'medium', 'medium', 'medium',\n",
       "       'high', 'high', 'medium', 'medium', 'low', 'medium', 'low', 'high',\n",
       "       'high', 'medium', 'medium', 'low', 'low', 'medium', 'medium',\n",
       "       'high', 'medium', 'high', 'medium', 'high', 'medium', 'medium',\n",
       "       'medium', 'medium', 'medium', 'medium', 'low', 'medium', 'low',\n",
       "       'medium', 'low', 'medium', 'medium', 'low', 'high', 'medium',\n",
       "       'high', 'medium', 'medium', 'medium', 'medium', 'medium', 'high',\n",
       "       'low', 'high', 'medium', 'low', 'medium', 'medium', 'low', 'high',\n",
       "       'medium', 'medium', 'high', 'medium', 'medium', 'high', 'low',\n",
       "       'medium', 'medium', 'medium', 'high', 'low', 'low', 'medium'],\n",
       "      dtype=object)"
      ]
     },
     "execution_count": 18,
     "metadata": {},
     "output_type": "execute_result"
    }
   ],
   "source": [
    "y_pred"
   ]
  },
  {
   "cell_type": "code",
   "execution_count": 19,
   "id": "29443a75",
   "metadata": {},
   "outputs": [
    {
     "data": {
      "text/plain": [
       "453       low\n",
       "794      high\n",
       "209    medium\n",
       "309    medium\n",
       "741    medium\n",
       "        ...  \n",
       "78     medium\n",
       "29       high\n",
       "277       low\n",
       "261       low\n",
       "423    medium\n",
       "Name: Popularity, Length: 200, dtype: category\n",
       "Categories (3, object): ['low' < 'medium' < 'high']"
      ]
     },
     "execution_count": 19,
     "metadata": {},
     "output_type": "execute_result"
    }
   ],
   "source": [
    "y_test"
   ]
  },
  {
   "cell_type": "markdown",
   "id": "1ec242fe",
   "metadata": {},
   "source": [
    "# Classification Report and Accuracy Score"
   ]
  },
  {
   "cell_type": "code",
   "execution_count": 20,
   "id": "dccb1f24",
   "metadata": {},
   "outputs": [
    {
     "name": "stdout",
     "output_type": "stream",
     "text": [
      "              precision    recall  f1-score   support\n",
      "\n",
      "        high       1.00      1.00      1.00        47\n",
      "         low       1.00      1.00      1.00        38\n",
      "      medium       1.00      1.00      1.00       115\n",
      "\n",
      "    accuracy                           1.00       200\n",
      "   macro avg       1.00      1.00      1.00       200\n",
      "weighted avg       1.00      1.00      1.00       200\n",
      "\n"
     ]
    }
   ],
   "source": [
    "print(classification_report(y_test, y_pred))"
   ]
  },
  {
   "cell_type": "code",
   "execution_count": 21,
   "id": "6d56e3a1",
   "metadata": {},
   "outputs": [
    {
     "name": "stdout",
     "output_type": "stream",
     "text": [
      "1.0\n"
     ]
    }
   ],
   "source": [
    "ac = accuracy_score(y_pred,y_test)\n",
    "print(ac)"
   ]
  }
 ],
 "metadata": {
  "kernelspec": {
   "display_name": "Python 3 (ipykernel)",
   "language": "python",
   "name": "python3"
  },
  "language_info": {
   "codemirror_mode": {
    "name": "ipython",
    "version": 3
   },
   "file_extension": ".py",
   "mimetype": "text/x-python",
   "name": "python",
   "nbconvert_exporter": "python",
   "pygments_lexer": "ipython3",
   "version": "3.10.9"
  }
 },
 "nbformat": 4,
 "nbformat_minor": 5
}
